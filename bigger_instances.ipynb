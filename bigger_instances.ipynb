{
 "cells": [
  {
   "cell_type": "code",
   "execution_count": 65,
   "metadata": {},
   "outputs": [],
   "source": [
    "import importlib\n",
    "imported_module = importlib.import_module(\"sql_commands\")\n",
    "importlib.reload(imported_module)\n",
    "import sql_commands\n",
    "from sql_commands import *\n",
    "import numpy as np\n",
    "import matplotlib.pyplot as plt\n",
    "import os\n",
    "import csv\n",
    "import pandas as pd\n",
    "import matplotlib.pyplot as plt"
   ]
  },
  {
   "cell_type": "code",
   "execution_count": null,
   "metadata": {},
   "outputs": [],
   "source": [
    "\"\"\"\n",
    "make db with sizes 0.2, 0.4, and 0.6 and run same time comparison\n",
    "for every query(1,2,3,4):\n",
    "    for every database(100mb,200mb,300mb):\n",
    "        for every null rate(1%,5%):\n",
    "            run query and get time\n",
    "            run query+ and get time\n",
    "            get range\n",
    "\"\"\""
   ]
  },
  {
   "cell_type": "code",
   "execution_count": 14,
   "metadata": {},
   "outputs": [],
   "source": [
    "db_sizes = [\"100MB\", \"200MB\", \"200MB\"]\n",
    "db_names = ['tpch', 'tpch_200mb', 'tpch_300mb']\n",
    "null_rates = [0.01, 0.05]\n",
    "mydb, mycursor = sql_commands.connect_to_db(\"tpch_2pct\")\n",
    "if not os.path.exists(\"performance_results\"):\n",
    "    # If it doesn't exist, create it\n",
    "    os.makedirs(\"performance_results\")"
   ]
  },
  {
   "cell_type": "markdown",
   "metadata": {},
   "source": [
    "# Query 1"
   ]
  },
  {
   "cell_type": "code",
   "execution_count": 13,
   "metadata": {},
   "outputs": [
    {
     "name": "stdout",
     "output_type": "stream",
     "text": [
      "tpch\n",
      "0.01 0.9968902402189721\n",
      "0.05 1.2067979388031287\n",
      "(0.9968902402189721, 1.2067979388031287)\n",
      "tpch_200mb\n",
      "0.01 0.962108103451462\n",
      "0.05 0.9257700283358385\n",
      "(0.9257700283358385, 0.962108103451462)\n",
      "tpch_300mb\n",
      "0.01 1.2633571389659655\n",
      "0.05 1.0881184233346486\n",
      "(1.0881184233346486, 1.2633571389659655)\n"
     ]
    }
   ],
   "source": [
    "q1_nations = ['UNITED KINGDOM', 'ARGENTINA', 'PERU', 'FRANCE', 'BRAZIL']\n",
    "q1_results = []\n",
    "for db_name in db_names:\n",
    "    print(db_name)\n",
    "    intermediate_results = []\n",
    "    for null_rate in null_rates:\n",
    "        null_rate_pct = int(null_rate * 100)\n",
    "        actual_db_name = f\"{db_name}_{null_rate_pct}pct\"\n",
    "        #print(\"Using\", actual_db_name)\n",
    "        mydb, mycursor = sql_commands.connect_to_db(actual_db_name)\n",
    "        ratios = []\n",
    "        for i in range(5):\n",
    "            result, q1_time, nation = run_query1(mycursor, q1_nations[i%len(q1_nations)], simple=False)\n",
    "            result, q1_mod_time = run_query1_modified(mycursor, nation)\n",
    "            ratio = q1_mod_time / q1_time\n",
    "            ratios.append(ratio)\n",
    "        avg = np.mean(ratios)\n",
    "        # print(null_rate, avg)\n",
    "        intermediate_results.append(avg)\n",
    "    min = np.min(intermediate_results)\n",
    "    max = np.max(intermediate_results)\n",
    "    # print((min,max))\n",
    "    q1_results.append((min,max))\n"
   ]
  },
  {
   "cell_type": "code",
   "execution_count": 15,
   "metadata": {},
   "outputs": [
    {
     "data": {
      "text/plain": [
       "[(0.9968902402189721, 1.2067979388031287),\n",
       " (0.9257700283358385, 0.962108103451462),\n",
       " (1.0881184233346486, 1.2633571389659655)]"
      ]
     },
     "execution_count": 15,
     "metadata": {},
     "output_type": "execute_result"
    }
   ],
   "source": [
    "q1_results"
   ]
  },
  {
   "cell_type": "markdown",
   "metadata": {},
   "source": [
    "# Query 2"
   ]
  },
  {
   "cell_type": "code",
   "execution_count": 16,
   "metadata": {},
   "outputs": [],
   "source": [
    "all_nations_raw = sql_commands.run_query(mycursor, \"SELECT N_NAME FROM NATION\")\n",
    "all_nations = []\n",
    "for nation in all_nations_raw:\n",
    "    n = nation[0]\n",
    "    if n is not None:\n",
    "        all_nations.append(n)"
   ]
  },
  {
   "cell_type": "code",
   "execution_count": 18,
   "metadata": {},
   "outputs": [
    {
     "name": "stdout",
     "output_type": "stream",
     "text": [
      "tpch\n",
      "(0.161552960996379, 0.17062713434096655)\n",
      "tpch_200mb\n",
      "(0.0873216050566439, 0.13543533274128716)\n",
      "tpch_300mb\n",
      "(0.07529283921818318, 0.11197839286084457)\n"
     ]
    }
   ],
   "source": [
    "q2_results = []\n",
    "for db_name in db_names:\n",
    "    print(db_name)\n",
    "    intermediate_results = []\n",
    "    for null_rate in null_rates:\n",
    "        null_rate_pct = int(null_rate * 100)\n",
    "        actual_db_name = f\"{db_name}_{null_rate_pct}pct\"\n",
    "        #print(\"Using\", actual_db_name)\n",
    "        mydb, mycursor = sql_commands.connect_to_db(actual_db_name)\n",
    "        ratios = []\n",
    "        for i in range(5):\n",
    "            nations = tuple(random.sample(all_nations, 7))\n",
    "            result, q2_time, countries = run_query2(mycursor, nations, simple=False)\n",
    "            result, q2_mod_time = run_query2_modified(mycursor, countries)\n",
    "            ratio = q2_mod_time / q2_time\n",
    "            ratios.append(ratio)\n",
    "        avg = np.mean(ratios)\n",
    "        # print(null_rate, avg)\n",
    "        intermediate_results.append(avg)\n",
    "    min = np.min(intermediate_results)\n",
    "    max = np.max(intermediate_results)\n",
    "    print((min,max))\n",
    "    q2_results.append((min,max))"
   ]
  },
  {
   "cell_type": "markdown",
   "metadata": {},
   "source": [
    "# Query 3"
   ]
  },
  {
   "cell_type": "code",
   "execution_count": 19,
   "metadata": {},
   "outputs": [
    {
     "name": "stdout",
     "output_type": "stream",
     "text": [
      "tpch\n",
      "(0.9296502860647173, 0.9644546278764198)\n",
      "tpch_200mb\n",
      "(1.1828288357467793, 1.281917846961201)\n",
      "tpch_300mb\n",
      "(0.8998112577971751, 0.9837995194566254)\n"
     ]
    }
   ],
   "source": [
    "q3_results = []\n",
    "for db_name in db_names:\n",
    "    print(db_name)\n",
    "    intermediate_results = []\n",
    "    for null_rate in null_rates:\n",
    "        null_rate_pct = int(null_rate * 100)\n",
    "        actual_db_name = f\"{db_name}_{null_rate_pct}pct\"\n",
    "        #print(\"Using\", actual_db_name)\n",
    "        mydb, mycursor = sql_commands.connect_to_db(actual_db_name)\n",
    "        ratios = []\n",
    "        for i in range(5):\n",
    "            result, q3_time, supp_key = run_query3(mycursor, simple=False)\n",
    "            result, q3_mod_time = run_query3_modified(mycursor, supp_key)\n",
    "            ratio = q3_mod_time / q3_time\n",
    "            ratios.append(ratio)\n",
    "        avg = np.mean(ratios)\n",
    "        # print(null_rate, avg)\n",
    "        intermediate_results.append(avg)\n",
    "    min = np.min(intermediate_results)\n",
    "    max = np.max(intermediate_results)\n",
    "    print((min,max))\n",
    "    q3_results.append((min,max))"
   ]
  },
  {
   "cell_type": "markdown",
   "metadata": {},
   "source": [
    "# Query 4"
   ]
  },
  {
   "cell_type": "code",
   "execution_count": 21,
   "metadata": {},
   "outputs": [
    {
     "name": "stdout",
     "output_type": "stream",
     "text": [
      "tpch\n",
      "(1.6582126640348276, 278.5049499552743)\n",
      "tpch_200mb\n",
      "(17.123516010385497, 461.3505701197999)\n",
      "tpch_300mb\n",
      "(29.423968607700463, 1653.914664064291)\n"
     ]
    }
   ],
   "source": [
    "q4_results = []\n",
    "for db_name in db_names:\n",
    "    print(db_name)\n",
    "    intermediate_results = []\n",
    "    for null_rate in null_rates:\n",
    "        null_rate_pct = int(null_rate * 100)\n",
    "        actual_db_name = f\"{db_name}_{null_rate_pct}pct\"\n",
    "        #print(\"Using\", actual_db_name)\n",
    "        mydb, mycursor = sql_commands.connect_to_db(actual_db_name)\n",
    "        ratios = []\n",
    "        for i in range(1):\n",
    "            result, q4_time, nation, color = run_query4(mycursor, all_nations, simple=False)\n",
    "            result, q4_mod_time = run_query4_modified(mycursor, nation, color)\n",
    "            ratio = q4_mod_time / q4_time\n",
    "            # print(\"times\", q4_mod_time, q4_time)\n",
    "            ratios.append(ratio)\n",
    "        avg = np.mean(ratios)\n",
    "        # print(null_rate, avg)\n",
    "        intermediate_results.append(avg)\n",
    "    min = np.min(intermediate_results)\n",
    "    max = np.max(intermediate_results)\n",
    "    print((min,max))\n",
    "    q4_results.append((min,max))"
   ]
  },
  {
   "cell_type": "code",
   "execution_count": 44,
   "metadata": {},
   "outputs": [
    {
     "name": "stdout",
     "output_type": "stream",
     "text": [
      "CSV data has been written to bigger_instances_results.csv\n"
     ]
    }
   ],
   "source": [
    "rows = zip(q1_results, q2_results, q3_results, q4_results)\n",
    "# Open the file in write mode and use csv.writer to write the rows\n",
    "path = \"bigger_instances_results.csv\"\n",
    "with open(path, \"w\", newline=\"\") as csv_file:\n",
    "    writer = csv.writer(csv_file)\n",
    "    # writer.writerow(header_row)\n",
    "    writer.writerows(rows)\n",
    "\n",
    "print(\"CSV data has been written to\", path)"
   ]
  },
  {
   "cell_type": "code",
   "execution_count": 68,
   "metadata": {},
   "outputs": [
    {
     "data": {
      "text/html": [
       "<div>\n",
       "<style scoped>\n",
       "    .dataframe tbody tr th:only-of-type {\n",
       "        vertical-align: middle;\n",
       "    }\n",
       "\n",
       "    .dataframe tbody tr th {\n",
       "        vertical-align: top;\n",
       "    }\n",
       "\n",
       "    .dataframe thead th {\n",
       "        text-align: right;\n",
       "    }\n",
       "</style>\n",
       "<table border=\"1\" class=\"dataframe\">\n",
       "  <thead>\n",
       "    <tr style=\"text-align: right;\">\n",
       "      <th></th>\n",
       "      <th>100MB</th>\n",
       "      <th>200MB</th>\n",
       "      <th>300MB</th>\n",
       "    </tr>\n",
       "  </thead>\n",
       "  <tbody>\n",
       "    <tr>\n",
       "      <th>Q1</th>\n",
       "      <td>0.9969 - 1.2068</td>\n",
       "      <td>0.9258 - 0.9621</td>\n",
       "      <td>1.0881 - 1.2634</td>\n",
       "    </tr>\n",
       "    <tr>\n",
       "      <th>Q2</th>\n",
       "      <td>0.1615 - 0.1706</td>\n",
       "      <td>0.0873 - 0.1354</td>\n",
       "      <td>0.0753 - 0.1120</td>\n",
       "    </tr>\n",
       "    <tr>\n",
       "      <th>Q3</th>\n",
       "      <td>0.9296 - 0.9645</td>\n",
       "      <td>1.1828 - 1.2819</td>\n",
       "      <td>0.8998 - 0.9838</td>\n",
       "    </tr>\n",
       "    <tr>\n",
       "      <th>Q4</th>\n",
       "      <td>1.6582 - 278.5050</td>\n",
       "      <td>17.1235 - 461.3506</td>\n",
       "      <td>29.4240 - 1653.9147</td>\n",
       "    </tr>\n",
       "  </tbody>\n",
       "</table>\n",
       "</div>"
      ],
      "text/plain": [
       "                100MB               200MB                300MB\n",
       "Q1    0.9969 - 1.2068     0.9258 - 0.9621      1.0881 - 1.2634\n",
       "Q2    0.1615 - 0.1706     0.0873 - 0.1354      0.0753 - 0.1120\n",
       "Q3    0.9296 - 0.9645     1.1828 - 1.2819      0.8998 - 0.9838\n",
       "Q4  1.6582 - 278.5050  17.1235 - 461.3506  29.4240 - 1653.9147"
      ]
     },
     "execution_count": 68,
     "metadata": {},
     "output_type": "execute_result"
    }
   ],
   "source": [
    "import ast\n",
    "file_path = \"bigger_instances_results.csv\"\n",
    "header_row = ['100MB', '200MB', '300MB']\n",
    "custom_index = ['Q1', 'Q2', 'Q3', 'Q4']\n",
    "\n",
    "# Read the CSV file into a DataFrame\n",
    "df = pd.read_csv(file_path, header=None)\n",
    "\n",
    "# Transpose the DataFrame and add custom indices\n",
    "df_transposed = df.T\n",
    "df_transposed.columns = header_row\n",
    "df_transposed.index = custom_index\n",
    "\n",
    "def str_to_tuple(s):\n",
    "    return ast.literal_eval(s)\n",
    "\n",
    "df_converted = df_transposed.applymap(str_to_tuple)\n",
    "\n",
    "def round_tuple(t):\n",
    "    return tuple(round(value, 5) for value in t)\n",
    "\n",
    "df_rounded = df_converted.applymap(round_tuple)\n",
    "\n",
    "def format_tuple(t):\n",
    "    return \"{:.4f} - {:.4f}\".format(t[0], t[1])\n",
    "\n",
    "df_formatted = df_rounded.applymap(format_tuple)\n",
    "\n",
    "df_formatted.head()"
   ]
  },
  {
   "cell_type": "code",
   "execution_count": 84,
   "metadata": {},
   "outputs": [
    {
     "data": {
      "image/png": "[encoded data removed]",
      "text/plain": [
       "<Figure size 640x480 with 1 Axes>"
      ]
     },
     "metadata": {},
     "output_type": "display_data"
    }
   ],
   "source": [
    "# Create a figure and axis\n",
    "fig, ax = plt.subplots()\n",
    "\n",
    "# Hide axes\n",
    "ax.axis('off')\n",
    "\n",
    "# Create a table\n",
    "table = ax.table(cellText=df_formatted.values,\n",
    "                 colLabels=df_formatted.columns,\n",
    "                 rowLabels=df_formatted.index,  # Include index as row labels\n",
    "                 loc='center')\n",
    "\n",
    "# Set font size\n",
    "table.auto_set_font_size(True)\n",
    "# table.set_fontsize(9)\n",
    "\n",
    "# Save the table as an image\n",
    "plt.savefig('bigger_instances_final.png', bbox_inches='tight', pad_inches=0.1)"
   ]
  }
 ],
 "metadata": {
  "kernelspec": {
   "display_name": "Python 3",
   "language": "python",
   "name": "python3"
  },
  "language_info": {
   "codemirror_mode": {
    "name": "ipython",
    "version": 3
   },
   "file_extension": ".py",
   "mimetype": "text/x-python",
   "name": "python",
   "nbconvert_exporter": "python",
   "pygments_lexer": "ipython3",
   "version": "3.11.4"
  }
 },
 "nbformat": 4,
 "nbformat_minor": 2
}
