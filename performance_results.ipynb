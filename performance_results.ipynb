{
 "cells": [
  {
   "cell_type": "code",
   "execution_count": 38,
   "metadata": {},
   "outputs": [],
   "source": [
    "import importlib\n",
    "imported_module = importlib.import_module(\"sql_commands\")\n",
    "importlib.reload(imported_module)\n",
    "import sql_commands\n",
    "from sql_commands import *\n",
    "import numpy as np\n",
    "import matplotlib.pyplot as plt\n",
    "import os"
   ]
  },
  {
   "cell_type": "code",
   "execution_count": 39,
   "metadata": {},
   "outputs": [],
   "source": [
    "# db_names = ['tpch_2pct', 'tpch_4pct', 'tpch_6pct', 'tpch_8pct', 'tpch_10pct']\n",
    "# null_rates = [0.02, 0.04, 0.06, 0.08, 0.1]\n",
    "db_names = ['tpch_1pct', 'tpch_2pct', 'tpch_3pct', 'tpch_4pct', 'tpch_5pct']\n",
    "null_rates = [0.01, 0.02, 0.03, 0.04, 0.05]\n",
    "mydb, mycursor = sql_commands.connect_to_db(\"tpch_2pct\")\n",
    "if not os.path.exists(\"performance_results\"):\n",
    "    # If it doesn't exist, create it\n",
    "    os.makedirs(\"performance_results\")"
   ]
  },
  {
   "cell_type": "markdown",
   "metadata": {},
   "source": [
    "# Plot Function"
   ]
  },
  {
   "cell_type": "code",
   "execution_count": 40,
   "metadata": {},
   "outputs": [],
   "source": [
    "def plot_results(results, query_num):\n",
    "    # Create an array of indices for the x-axis\n",
    "    plt.grid(True, zorder=0)\n",
    "    indices = [int(x*100) for x in null_rates]\n",
    "\n",
    "    # Horizontal line\n",
    "    plt.axhline(y=1, color='gray', linestyle='--', zorder=3)\n",
    "\n",
    "    # Create the bar plot\n",
    "    plt.bar(indices, results, color='red', zorder=3)\n",
    "\n",
    "    # Add labels to the x-axis\n",
    "    plt.xticks(indices, [str(i) for i in indices])\n",
    "\n",
    "    # Add labels to the y-axis and title to the plot\n",
    "    plt.ylabel('Average relative Performance')\n",
    "    plt.xlabel('Null Rate (%)')\n",
    "    plt.title(f'Query {query_num}+')\n",
    "    plt.ylim((np.min(results)-0.05, np.max(results)+0.05))\n",
    "\n",
    "    # save plot as file\n",
    "    plt.savefig(f\"performance_results/q{query_num}_plus.png\")\n",
    "    \n",
    "    # Show the plot\n",
    "    plt.show()\n"
   ]
  },
  {
   "cell_type": "markdown",
   "metadata": {},
   "source": [
    "# Query 1"
   ]
  },
  {
   "cell_type": "markdown",
   "metadata": {},
   "source": [
    "# Query 2"
   ]
  },
  {
   "cell_type": "markdown",
   "metadata": {},
   "source": [
    "# Query 3"
   ]
  },
  {
   "cell_type": "code",
   "execution_count": 41,
   "metadata": {},
   "outputs": [
    {
     "name": "stdout",
     "output_type": "stream",
     "text": [
      "AVG for tpch_1pct is 0.9384 seconds\n",
      "AVG for tpch_2pct is 1.039 seconds\n",
      "AVG for tpch_3pct is 1.082 seconds\n",
      "AVG for tpch_4pct is 1.049 seconds\n",
      "AVG for tpch_5pct is 1.023 seconds\n"
     ]
    }
   ],
   "source": [
    "q3_results = []\n",
    "for db_name in db_names:\n",
    "    mydb, mycursor = sql_commands.connect_to_db(db_name)\n",
    "    ratios = []\n",
    "    for i in range(20):\n",
    "        result, q3_time, supp_key = run_query3(mycursor, simple=False)\n",
    "        result, q3_mod_time = run_query3_modified(mycursor, supp_key)\n",
    "        ratio = q3_mod_time / q3_time\n",
    "        ratios.append(ratio)\n",
    "    avg = np.mean(ratios)\n",
    "    print(f\"AVG for {db_name} is {avg:.4} seconds\")\n",
    "    q3_results.append(avg)"
   ]
  },
  {
   "cell_type": "code",
   "execution_count": 42,
   "metadata": {},
   "outputs": [
    {
     "data": {
      "image/png": "[encoded data removed]",
      "text/plain": [
       "<Figure size 640x480 with 1 Axes>"
      ]
     },
     "metadata": {},
     "output_type": "display_data"
    }
   ],
   "source": [
    "plot_results(q3_results, \"3\")"
   ]
  },
  {
   "cell_type": "markdown",
   "metadata": {},
   "source": [
    "# Query 4"
   ]
  }
 ],
 "metadata": {
  "kernelspec": {
   "display_name": "Python 3",
   "language": "python",
   "name": "python3"
  },
  "language_info": {
   "codemirror_mode": {
    "name": "ipython",
    "version": 3
   },
   "file_extension": ".py",
   "mimetype": "text/x-python",
   "name": "python",
   "nbconvert_exporter": "python",
   "pygments_lexer": "ipython3",
   "version": "3.11.4"
  }
 },
 "nbformat": 4,
 "nbformat_minor": 2
}
