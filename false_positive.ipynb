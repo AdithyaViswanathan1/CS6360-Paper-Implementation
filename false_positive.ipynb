{
 "cells": [
  {
   "cell_type": "markdown",
   "metadata": {},
   "source": [
    "# Implementation of False Positive Algorithms"
   ]
  },
  {
   "cell_type": "code",
   "execution_count": 48,
   "metadata": {},
   "outputs": [],
   "source": [
    "import json\n",
    "import mysql.connector\n",
    "import sql_commands\n",
    "import random\n",
    "import numpy as np\n",
    "#random.seed(2311)"
   ]
  },
  {
   "cell_type": "code",
   "execution_count": 49,
   "metadata": {},
   "outputs": [],
   "source": [
    "db_names = ['tpch_2pct', 'tpch_4pct', 'tpch_6pct', 'tpch_8pct', 'tpch_10pct']\n",
    "null_rates = [0.02, 0.04, 0.06, 0.08, 0.1]"
   ]
  },
  {
   "cell_type": "code",
   "execution_count": 50,
   "metadata": {},
   "outputs": [],
   "source": [
    "mydb, mycursor = sql_commands.connect_to_db(\"tpch_og\")"
   ]
  },
  {
   "cell_type": "code",
   "execution_count": 51,
   "metadata": {},
   "outputs": [],
   "source": [
    "# all_nations = sql_commands.run_query(mycursor, \"SELECT N_NAME FROM NATION\")\n",
    "# def get_rand_nation():\n",
    "#     index = random.randint(0, len(all_nations)-1)\n",
    "#     nation = all_nations[index][0]\n",
    "#     #print(\"Nation chosen:\", nation)\n",
    "#     return nation\n",
    "nations = ['UNITED KINGDOM', 'ARGENTINA', 'PERU', 'FRANCE', 'BRAZIL']"
   ]
  },
  {
   "cell_type": "code",
   "execution_count": 54,
   "metadata": {},
   "outputs": [],
   "source": [
    "def q1_fps(query1_out,lineitem_cols,query1_cols):\n",
    "    # Query to get all items from Lineitem table\n",
    "    lineitem = sql_commands.run_query(mycursor,\"SELECT * FROM LINEITEM\")\n",
    "    # Variables needed for comparing lineitem items to query 1 answer\n",
    "    l_orderkey_index = lineitem_cols.index('L_ORDERKEY')\n",
    "    #print(\"l-orderkey-index\", l_orderkey_index)\n",
    "    o_orderkey_index = query1_cols.index('O_ORDERKEY')\n",
    "    #print(\"o-orderkey-index\", o_orderkey_index)\n",
    "    l_suppkey_index = lineitem_cols.index('L_SUPPKEY')\n",
    "    s_suppkey_index = query1_cols.index(\"S_SUPPKEY\")\n",
    "    l_commitdate_index = lineitem_cols.index(\"L_COMMITDATE\")\n",
    "    l_receiptdate_index = lineitem_cols.index('L_RECEIPTDATE')\n",
    "    count = 0\n",
    "    continue_count = 0\n",
    "    not_count = 0\n",
    "    nothing = 0\n",
    "    matching_count = 0\n",
    "    for i,t in enumerate(lineitem):\n",
    "        for j,a in enumerate(query1_out):\n",
    "            #print(\"Lineitem orderkey:\", t[l_orderkey_index], \"query1 answer orderkey:\", a[o_orderkey_index])\n",
    "            if t[l_orderkey_index] == a[o_orderkey_index]:\n",
    "                matching_count += 1\n",
    "                x = t[l_suppkey_index]\n",
    "                if x is not None and x == a[s_suppkey_index]:\n",
    "                    continue_count += 1\n",
    "                    continue\n",
    "                \n",
    "                d1 = t[l_commitdate_index]\n",
    "                d2 = t[l_receiptdate_index]\n",
    "                if (d1 is None) or (d2 is None) or (d2 > d1):\n",
    "                    count += 1\n",
    "                else:\n",
    "                    not_count += 1\n",
    "            else:\n",
    "                nothing += 1\n",
    "    #print(not_count, matching_count) \n",
    "    if matching_count != 0:           \n",
    "        return count/matching_count\n",
    "    return None"
   ]
  },
  {
   "cell_type": "code",
   "execution_count": 55,
   "metadata": {},
   "outputs": [
    {
     "name": "stdout",
     "output_type": "stream",
     "text": [
      "QUERY 1 False Positives\n",
      "\n",
      "Null Rate: 0.02\n",
      "Nation: UNITED KINGDOM\n",
      "Nation: ARGENTINA\n",
      "Nation: PERU\n",
      "Average false positive rate is: 0.09128052742823267\n",
      "\n",
      "Null Rate: 0.04\n",
      "Nation: UNITED KINGDOM\n",
      "Nation: ARGENTINA\n",
      "Nation: PERU\n",
      "Average false positive rate is: 0.1506480897382979\n",
      "\n",
      "Null Rate: 0.06\n",
      "Nation: UNITED KINGDOM\n",
      "Nation: ARGENTINA\n",
      "Nation: PERU\n",
      "Average false positive rate is: 0.21371327948268773\n",
      "\n",
      "Null Rate: 0.08\n",
      "Nation: UNITED KINGDOM\n",
      "Nation: ARGENTINA\n",
      "Nation: PERU\n",
      "Average false positive rate is: 0.26871189086092767\n",
      "\n",
      "Null Rate: 0.1\n",
      "Nation: UNITED KINGDOM\n",
      "Nation: ARGENTINA\n",
      "Nation: PERU\n",
      "Average false positive rate is: 0.3253795296924006\n"
     ]
    }
   ],
   "source": [
    "# list of tuples\n",
    "# (suppkey, orderkey)\n",
    "q1_results = []\n",
    "print(\"QUERY 1 False Positives\")\n",
    "for i in range(len(db_names)):\n",
    "    curr_db_name = db_names[i]\n",
    "    curr_null_rate = null_rates[i]\n",
    "    print(f\"\\nNull Rate: {curr_null_rate}\")\n",
    "    mydb, mycursor = sql_commands.connect_to_db(curr_db_name)\n",
    "    fp_pcts = []\n",
    "    for j in range(3):\n",
    "        nation = nations[j]\n",
    "        print(f\"Nation: {nation}\")\n",
    "        query1_out = sql_commands.run_query1(mycursor,nation)\n",
    "        lineitem_attributes = sql_commands.get_attribute_names(mycursor,\"LINEITEM\")\n",
    "        query1_attributes = ['S_SUPPKEY', 'O_ORDERKEY']\n",
    "        fp_pct = q1_fps(query1_out, lineitem_attributes, query1_attributes)\n",
    "        #print(f\"{fp_pct*100:.4}% false positives\")\n",
    "        #print(f\"Total Number of rows in query: {len(query1_out)}\")\n",
    "        if fp_pct != None:\n",
    "            fp_pcts.append(fp_pct)\n",
    "\n",
    "    #print(fp_pcts)\n",
    "    print(f\"Average false positive rate is: {np.mean(fp_pcts)}\")\n",
    "    q1_results.append(np.mean(fp_pcts))\n",
    "    "
   ]
  },
  {
   "cell_type": "code",
   "execution_count": 57,
   "metadata": {},
   "outputs": [
    {
     "data": {
      "text/plain": [
       "[0.09128052742823267,\n",
       " 0.1506480897382979,\n",
       " 0.21371327948268773,\n",
       " 0.26871189086092767,\n",
       " 0.3253795296924006]"
      ]
     },
     "execution_count": 57,
     "metadata": {},
     "output_type": "execute_result"
    }
   ],
   "source": [
    "q1_results"
   ]
  },
  {
   "cell_type": "code",
   "execution_count": null,
   "metadata": {},
   "outputs": [],
   "source": [
    "sql_commands.close_db(mydb, mycursor)"
   ]
  }
 ],
 "metadata": {
  "kernelspec": {
   "display_name": "Python 3",
   "language": "python",
   "name": "python3"
  },
  "language_info": {
   "codemirror_mode": {
    "name": "ipython",
    "version": 3
   },
   "file_extension": ".py",
   "mimetype": "text/x-python",
   "name": "python",
   "nbconvert_exporter": "python",
   "pygments_lexer": "ipython3",
   "version": "3.11.4"
  }
 },
 "nbformat": 4,
 "nbformat_minor": 2
}
