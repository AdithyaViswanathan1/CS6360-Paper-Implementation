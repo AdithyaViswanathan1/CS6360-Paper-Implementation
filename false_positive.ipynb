{
 "cells": [
  {
   "cell_type": "markdown",
   "metadata": {},
   "source": [
    "# Implementation of False Positive Algorithms"
   ]
  },
  {
   "cell_type": "code",
   "execution_count": 74,
   "metadata": {},
   "outputs": [],
   "source": [
    "import json\n",
    "import mysql.connector\n",
    "import random\n",
    "import numpy as np\n",
    "import importlib\n",
    "imported_module = importlib.import_module(\"sql_commands\")\n",
    "importlib.reload(imported_module)\n",
    "import sql_commands\n",
    "from sql_commands import *\n",
    "#random.seed(2311)"
   ]
  },
  {
   "cell_type": "code",
   "execution_count": 4,
   "metadata": {},
   "outputs": [],
   "source": [
    "db_names = ['tpch_2pct', 'tpch_4pct', 'tpch_6pct', 'tpch_8pct', 'tpch_10pct']\n",
    "null_rates = [0.02, 0.04, 0.06, 0.08, 0.1]"
   ]
  },
  {
   "cell_type": "code",
   "execution_count": 5,
   "metadata": {},
   "outputs": [],
   "source": [
    "mydb, mycursor = sql_commands.connect_to_db(\"tpch_og\")"
   ]
  },
  {
   "cell_type": "code",
   "execution_count": 6,
   "metadata": {},
   "outputs": [],
   "source": [
    "all_nations_raw = sql_commands.run_query(mycursor, \"SELECT N_NAME FROM NATION\")\n",
    "all_nations = []\n",
    "for nation in all_nations_raw:\n",
    "    n = nation[0]\n",
    "    if n is not None:\n",
    "        all_nations.append(n)"
   ]
  },
  {
   "cell_type": "markdown",
   "metadata": {},
   "source": [
    "## Query 1"
   ]
  },
  {
   "cell_type": "code",
   "execution_count": 82,
   "metadata": {},
   "outputs": [],
   "source": [
    "def q1_fps(query1_out,lineitem_cols,query1_cols):\n",
    "    # Query to get all items from Lineitem table\n",
    "    lineitem = sql_commands.run_query(mycursor,\"SELECT * FROM LINEITEM\")\n",
    "    # Variables needed for comparing lineitem items to query 1 answer\n",
    "    l_orderkey_index = lineitem_cols.index('L_ORDERKEY')\n",
    "    #print(\"l-orderkey-index\", l_orderkey_index)\n",
    "    o_orderkey_index = query1_cols.index('O_ORDERKEY')\n",
    "    #print(\"o-orderkey-index\", o_orderkey_index)\n",
    "    l_suppkey_index = lineitem_cols.index('L_SUPPKEY')\n",
    "    s_suppkey_index = query1_cols.index(\"S_SUPPKEY\")\n",
    "    l_commitdate_index = lineitem_cols.index(\"L_COMMITDATE\")\n",
    "    l_receiptdate_index = lineitem_cols.index('L_RECEIPTDATE')\n",
    "    count = 0\n",
    "    continue_count = 0\n",
    "    not_count = 0\n",
    "    nothing = 0\n",
    "    matching_count = 0\n",
    "    for i,t in enumerate(lineitem):\n",
    "        for j,a in enumerate(query1_out):\n",
    "            #print(\"Lineitem orderkey:\", t[l_orderkey_index], \"query1 answer orderkey:\", a[o_orderkey_index])\n",
    "            if t[l_orderkey_index] == a[o_orderkey_index]:\n",
    "                matching_count += 1\n",
    "                x = t[l_suppkey_index]\n",
    "                if x is not None and x == a[s_suppkey_index]:\n",
    "                    continue_count += 1\n",
    "                    continue\n",
    "                \n",
    "                d1 = t[l_commitdate_index]\n",
    "                d2 = t[l_receiptdate_index]\n",
    "                if (d1 is None) or (d2 is None) or (d2 > d1):\n",
    "                    count += 1\n",
    "                else:\n",
    "                    not_count += 1\n",
    "            else:\n",
    "                nothing += 1\n",
    "    #print(not_count, matching_count) \n",
    "    if matching_count != 0:           \n",
    "        return count/matching_count\n",
    "    return None"
   ]
  },
  {
   "cell_type": "code",
   "execution_count": 83,
   "metadata": {},
   "outputs": [
    {
     "name": "stdout",
     "output_type": "stream",
     "text": [
      "QUERY 1 False Positives\n",
      "\n",
      "Null Rate: 0.02\n",
      "Nation: UNITED KINGDOM\n"
     ]
    },
    {
     "ename": "KeyboardInterrupt",
     "evalue": "",
     "output_type": "error",
     "traceback": [
      "\u001b[0;31m---------------------------------------------------------------------------\u001b[0m",
      "\u001b[0;31mKeyboardInterrupt\u001b[0m                         Traceback (most recent call last)",
      "Cell \u001b[0;32mIn[83], line 15\u001b[0m\n\u001b[1;32m     13\u001b[0m nation \u001b[38;5;241m=\u001b[39m q1_nations[j]\n\u001b[1;32m     14\u001b[0m \u001b[38;5;28mprint\u001b[39m(\u001b[38;5;124mf\u001b[39m\u001b[38;5;124m\"\u001b[39m\u001b[38;5;124mNation: \u001b[39m\u001b[38;5;132;01m{\u001b[39;00mnation\u001b[38;5;132;01m}\u001b[39;00m\u001b[38;5;124m\"\u001b[39m)\n\u001b[0;32m---> 15\u001b[0m query1_out \u001b[38;5;241m=\u001b[39m \u001b[43msql_commands\u001b[49m\u001b[38;5;241;43m.\u001b[39;49m\u001b[43mrun_query1\u001b[49m\u001b[43m(\u001b[49m\u001b[43mmycursor\u001b[49m\u001b[43m,\u001b[49m\u001b[43mnation\u001b[49m\u001b[43m)\u001b[49m\n\u001b[1;32m     16\u001b[0m lineitem_attributes \u001b[38;5;241m=\u001b[39m sql_commands\u001b[38;5;241m.\u001b[39mget_attribute_names(mycursor,\u001b[38;5;124m\"\u001b[39m\u001b[38;5;124mLINEITEM\u001b[39m\u001b[38;5;124m\"\u001b[39m)\n\u001b[1;32m     17\u001b[0m query1_attributes \u001b[38;5;241m=\u001b[39m [\u001b[38;5;124m'\u001b[39m\u001b[38;5;124mS_SUPPKEY\u001b[39m\u001b[38;5;124m'\u001b[39m, \u001b[38;5;124m'\u001b[39m\u001b[38;5;124mO_ORDERKEY\u001b[39m\u001b[38;5;124m'\u001b[39m]\n",
      "File \u001b[0;32m~/Documents/code/CS6360-Paper-Implementation/sql_commands.py:94\u001b[0m, in \u001b[0;36mrun_query1\u001b[0;34m(mycursor, nation)\u001b[0m\n\u001b[1;32m     76\u001b[0m \u001b[38;5;28;01mdef\u001b[39;00m \u001b[38;5;21mrun_query1\u001b[39m(mycursor, nation):\n\u001b[1;32m     77\u001b[0m     query \u001b[38;5;241m=\u001b[39m \u001b[38;5;124mf\u001b[39m\u001b[38;5;124m'''\u001b[39m\u001b[38;5;124mSELECT s_suppkey, o_orderkey\u001b[39m\n\u001b[1;32m     78\u001b[0m \u001b[38;5;124m                FROM supplier, lineitem l1, orders, nation WHERE s_suppkey = l1.l_suppkey\u001b[39m\n\u001b[1;32m     79\u001b[0m \u001b[38;5;124m                AND o_orderkey = l1.l_orderkey\u001b[39m\n\u001b[0;32m   (...)\u001b[0m\n\u001b[1;32m     91\u001b[0m \u001b[38;5;124m                AND s_nationkey = n_nationkey\u001b[39m\n\u001b[1;32m     92\u001b[0m \u001b[38;5;124m                AND n_name = \u001b[39m\u001b[38;5;124m\"\u001b[39m\u001b[38;5;132;01m{\u001b[39;00mnation\u001b[38;5;132;01m}\u001b[39;00m\u001b[38;5;124m\"\u001b[39m\u001b[38;5;124m'''\u001b[39m\n\u001b[0;32m---> 94\u001b[0m     \u001b[43mmycursor\u001b[49m\u001b[38;5;241;43m.\u001b[39;49m\u001b[43mexecute\u001b[49m\u001b[43m(\u001b[49m\u001b[43mquery\u001b[49m\u001b[43m)\u001b[49m\n\u001b[1;32m     95\u001b[0m     myresult \u001b[38;5;241m=\u001b[39m mycursor\u001b[38;5;241m.\u001b[39mfetchall()\n\u001b[1;32m     96\u001b[0m     \u001b[38;5;66;03m#print(myresult)\u001b[39;00m\n",
      "File \u001b[0;32m/Library/Frameworks/Python.framework/Versions/3.11/lib/python3.11/site-packages/mysql/connector/cursor.py:748\u001b[0m, in \u001b[0;36mMySQLCursor.execute\u001b[0;34m(self, operation, params, multi)\u001b[0m\n\u001b[1;32m    745\u001b[0m     \u001b[38;5;28;01mreturn\u001b[39;00m \u001b[38;5;28mself\u001b[39m\u001b[38;5;241m.\u001b[39m_execute_iter(\u001b[38;5;28mself\u001b[39m\u001b[38;5;241m.\u001b[39m_connection\u001b[38;5;241m.\u001b[39mcmd_query_iter(stmt))\n\u001b[1;32m    747\u001b[0m \u001b[38;5;28;01mtry\u001b[39;00m:\n\u001b[0;32m--> 748\u001b[0m     \u001b[38;5;28mself\u001b[39m\u001b[38;5;241m.\u001b[39m_handle_result(\u001b[38;5;28;43mself\u001b[39;49m\u001b[38;5;241;43m.\u001b[39;49m\u001b[43m_connection\u001b[49m\u001b[38;5;241;43m.\u001b[39;49m\u001b[43mcmd_query\u001b[49m\u001b[43m(\u001b[49m\u001b[43mstmt\u001b[49m\u001b[43m)\u001b[49m)\n\u001b[1;32m    749\u001b[0m \u001b[38;5;28;01mexcept\u001b[39;00m InterfaceError \u001b[38;5;28;01mas\u001b[39;00m err:\n\u001b[1;32m    750\u001b[0m     \u001b[38;5;28;01mif\u001b[39;00m \u001b[38;5;28mself\u001b[39m\u001b[38;5;241m.\u001b[39m_connection\u001b[38;5;241m.\u001b[39mhave_next_result:\n",
      "File \u001b[0;32m/Library/Frameworks/Python.framework/Versions/3.11/lib/python3.11/site-packages/mysql/connector/opentelemetry/context_propagation.py:74\u001b[0m, in \u001b[0;36mwith_context_propagation.<locals>.wrapper\u001b[0;34m(cnx, *args, **kwargs)\u001b[0m\n\u001b[1;32m     72\u001b[0m \u001b[38;5;250m\u001b[39m\u001b[38;5;124;03m\"\"\"Context propagation decorator.\"\"\"\u001b[39;00m\n\u001b[1;32m     73\u001b[0m \u001b[38;5;28;01mif\u001b[39;00m \u001b[38;5;129;01mnot\u001b[39;00m OTEL_ENABLED \u001b[38;5;129;01mor\u001b[39;00m \u001b[38;5;129;01mnot\u001b[39;00m cnx\u001b[38;5;241m.\u001b[39motel_context_propagation:\n\u001b[0;32m---> 74\u001b[0m     \u001b[38;5;28;01mreturn\u001b[39;00m \u001b[43mmethod\u001b[49m\u001b[43m(\u001b[49m\u001b[43mcnx\u001b[49m\u001b[43m,\u001b[49m\u001b[43m \u001b[49m\u001b[38;5;241;43m*\u001b[39;49m\u001b[43margs\u001b[49m\u001b[43m,\u001b[49m\u001b[43m \u001b[49m\u001b[38;5;241;43m*\u001b[39;49m\u001b[38;5;241;43m*\u001b[39;49m\u001b[43mkwargs\u001b[49m\u001b[43m)\u001b[49m\n\u001b[1;32m     76\u001b[0m current_span \u001b[38;5;241m=\u001b[39m trace\u001b[38;5;241m.\u001b[39mget_current_span()\n\u001b[1;32m     77\u001b[0m tp_header \u001b[38;5;241m=\u001b[39m \u001b[38;5;28;01mNone\u001b[39;00m\n",
      "File \u001b[0;32m/Library/Frameworks/Python.framework/Versions/3.11/lib/python3.11/site-packages/mysql/connector/connection.py:855\u001b[0m, in \u001b[0;36mMySQLConnection.cmd_query\u001b[0;34m(self, query, raw, buffered, raw_as_string)\u001b[0m\n\u001b[1;32m    853\u001b[0m query \u001b[38;5;241m=\u001b[39m \u001b[38;5;28mbytes\u001b[39m(packet)\n\u001b[1;32m    854\u001b[0m \u001b[38;5;28;01mtry\u001b[39;00m:\n\u001b[0;32m--> 855\u001b[0m     result \u001b[38;5;241m=\u001b[39m \u001b[38;5;28mself\u001b[39m\u001b[38;5;241m.\u001b[39m_handle_result(\u001b[38;5;28;43mself\u001b[39;49m\u001b[38;5;241;43m.\u001b[39;49m\u001b[43m_send_cmd\u001b[49m\u001b[43m(\u001b[49m\u001b[43mServerCmd\u001b[49m\u001b[38;5;241;43m.\u001b[39;49m\u001b[43mQUERY\u001b[49m\u001b[43m,\u001b[49m\u001b[43m \u001b[49m\u001b[43mquery\u001b[49m\u001b[43m)\u001b[49m)\n\u001b[1;32m    856\u001b[0m \u001b[38;5;28;01mexcept\u001b[39;00m ProgrammingError \u001b[38;5;28;01mas\u001b[39;00m err:\n\u001b[1;32m    857\u001b[0m     \u001b[38;5;28;01mif\u001b[39;00m err\u001b[38;5;241m.\u001b[39merrno \u001b[38;5;241m==\u001b[39m \u001b[38;5;241m3948\u001b[39m \u001b[38;5;129;01mand\u001b[39;00m \u001b[38;5;124m\"\u001b[39m\u001b[38;5;124mLoading local data is disabled\u001b[39m\u001b[38;5;124m\"\u001b[39m \u001b[38;5;129;01min\u001b[39;00m err\u001b[38;5;241m.\u001b[39mmsg:\n",
      "File \u001b[0;32m/Library/Frameworks/Python.framework/Versions/3.11/lib/python3.11/site-packages/mysql/connector/connection.py:474\u001b[0m, in \u001b[0;36mMySQLConnection._send_cmd\u001b[0;34m(self, command, argument, packet_number, packet, expect_response, compressed_packet_number)\u001b[0m\n\u001b[1;32m    471\u001b[0m \u001b[38;5;28;01mexcept\u001b[39;00m \u001b[38;5;167;01mAttributeError\u001b[39;00m \u001b[38;5;28;01mas\u001b[39;00m err:\n\u001b[1;32m    472\u001b[0m     \u001b[38;5;28;01mraise\u001b[39;00m OperationalError(\u001b[38;5;124m\"\u001b[39m\u001b[38;5;124mMySQL Connection not available\u001b[39m\u001b[38;5;124m\"\u001b[39m) \u001b[38;5;28;01mfrom\u001b[39;00m \u001b[38;5;21;01merr\u001b[39;00m\n\u001b[0;32m--> 474\u001b[0m \u001b[38;5;28;01mreturn\u001b[39;00m \u001b[38;5;28;43mself\u001b[39;49m\u001b[38;5;241;43m.\u001b[39;49m\u001b[43m_socket\u001b[49m\u001b[38;5;241;43m.\u001b[39;49m\u001b[43mrecv\u001b[49m\u001b[43m(\u001b[49m\u001b[43m)\u001b[49m \u001b[38;5;28;01mif\u001b[39;00m expect_response \u001b[38;5;28;01melse\u001b[39;00m \u001b[38;5;28;01mNone\u001b[39;00m\n",
      "File \u001b[0;32m/Library/Frameworks/Python.framework/Versions/3.11/lib/python3.11/site-packages/mysql/connector/network.py:637\u001b[0m, in \u001b[0;36mMySQLSocket.recv\u001b[0;34m(self)\u001b[0m\n\u001b[1;32m    635\u001b[0m \u001b[38;5;28;01mdef\u001b[39;00m \u001b[38;5;21mrecv\u001b[39m(\u001b[38;5;28mself\u001b[39m) \u001b[38;5;241m-\u001b[39m\u001b[38;5;241m>\u001b[39m \u001b[38;5;28mbytearray\u001b[39m:\n\u001b[1;32m    636\u001b[0m \u001b[38;5;250m    \u001b[39m\u001b[38;5;124;03m\"\"\"Get packet from the MySQL server comm channel.\"\"\"\u001b[39;00m\n\u001b[0;32m--> 637\u001b[0m     \u001b[38;5;28;01mreturn\u001b[39;00m \u001b[38;5;28;43mself\u001b[39;49m\u001b[38;5;241;43m.\u001b[39;49m\u001b[43m_netbroker\u001b[49m\u001b[38;5;241;43m.\u001b[39;49m\u001b[43mrecv\u001b[49m\u001b[43m(\u001b[49m\u001b[38;5;28;43mself\u001b[39;49m\u001b[38;5;241;43m.\u001b[39;49m\u001b[43msock\u001b[49m\u001b[43m,\u001b[49m\u001b[43m \u001b[49m\u001b[38;5;28;43mself\u001b[39;49m\u001b[38;5;241;43m.\u001b[39;49m\u001b[43maddress\u001b[49m\u001b[43m)\u001b[49m\n",
      "File \u001b[0;32m/Library/Frameworks/Python.framework/Versions/3.11/lib/python3.11/site-packages/mysql/connector/network.py:229\u001b[0m, in \u001b[0;36mNetworkBrokerPlain.recv\u001b[0;34m(self, sock, address)\u001b[0m\n\u001b[1;32m    226\u001b[0m \u001b[38;5;250m\u001b[39m\u001b[38;5;124;03m\"\"\"Receive `one` packet from the MySQL server.\"\"\"\u001b[39;00m\n\u001b[1;32m    227\u001b[0m \u001b[38;5;28;01mtry\u001b[39;00m:\n\u001b[1;32m    228\u001b[0m     \u001b[38;5;66;03m# Read the header of the MySQL packet\u001b[39;00m\n\u001b[0;32m--> 229\u001b[0m     header \u001b[38;5;241m=\u001b[39m \u001b[38;5;28;43mself\u001b[39;49m\u001b[38;5;241;43m.\u001b[39;49m\u001b[43m_recv_chunk\u001b[49m\u001b[43m(\u001b[49m\u001b[43msock\u001b[49m\u001b[43m,\u001b[49m\u001b[43m \u001b[49m\u001b[43msize\u001b[49m\u001b[38;5;241;43m=\u001b[39;49m\u001b[43mPACKET_HEADER_LENGTH\u001b[49m\u001b[43m)\u001b[49m\n\u001b[1;32m    231\u001b[0m     \u001b[38;5;66;03m# Pull the payload length and sequence id\u001b[39;00m\n\u001b[1;32m    232\u001b[0m     payload_len, \u001b[38;5;28mself\u001b[39m\u001b[38;5;241m.\u001b[39m_pktnr \u001b[38;5;241m=\u001b[39m (\n\u001b[1;32m    233\u001b[0m         struct\u001b[38;5;241m.\u001b[39munpack(\u001b[38;5;124m\"\u001b[39m\u001b[38;5;124m<I\u001b[39m\u001b[38;5;124m\"\u001b[39m, header[\u001b[38;5;241m0\u001b[39m:\u001b[38;5;241m3\u001b[39m] \u001b[38;5;241m+\u001b[39m \u001b[38;5;124mb\u001b[39m\u001b[38;5;124m\"\u001b[39m\u001b[38;5;130;01m\\x00\u001b[39;00m\u001b[38;5;124m\"\u001b[39m)[\u001b[38;5;241m0\u001b[39m],\n\u001b[1;32m    234\u001b[0m         header[\u001b[38;5;241m3\u001b[39m],\n\u001b[1;32m    235\u001b[0m     )\n",
      "File \u001b[0;32m/Library/Frameworks/Python.framework/Versions/3.11/lib/python3.11/site-packages/mysql/connector/network.py:174\u001b[0m, in \u001b[0;36mNetworkBrokerPlain._recv_chunk\u001b[0;34m(self, sock, size)\u001b[0m\n\u001b[1;32m    172\u001b[0m pkt_view \u001b[38;5;241m=\u001b[39m \u001b[38;5;28mmemoryview\u001b[39m(pkt)\n\u001b[1;32m    173\u001b[0m \u001b[38;5;28;01mwhile\u001b[39;00m size:\n\u001b[0;32m--> 174\u001b[0m     read \u001b[38;5;241m=\u001b[39m \u001b[43msock\u001b[49m\u001b[38;5;241;43m.\u001b[39;49m\u001b[43mrecv_into\u001b[49m\u001b[43m(\u001b[49m\u001b[43mpkt_view\u001b[49m\u001b[43m,\u001b[49m\u001b[43m \u001b[49m\u001b[43msize\u001b[49m\u001b[43m)\u001b[49m\n\u001b[1;32m    175\u001b[0m     \u001b[38;5;28;01mif\u001b[39;00m read \u001b[38;5;241m==\u001b[39m \u001b[38;5;241m0\u001b[39m \u001b[38;5;129;01mand\u001b[39;00m size \u001b[38;5;241m>\u001b[39m \u001b[38;5;241m0\u001b[39m:\n\u001b[1;32m    176\u001b[0m         \u001b[38;5;28;01mraise\u001b[39;00m InterfaceError(errno\u001b[38;5;241m=\u001b[39m\u001b[38;5;241m2013\u001b[39m)\n",
      "File \u001b[0;32m/Library/Frameworks/Python.framework/Versions/3.11/lib/python3.11/ssl.py:1278\u001b[0m, in \u001b[0;36mSSLSocket.recv_into\u001b[0;34m(self, buffer, nbytes, flags)\u001b[0m\n\u001b[1;32m   1274\u001b[0m     \u001b[38;5;28;01mif\u001b[39;00m flags \u001b[38;5;241m!=\u001b[39m \u001b[38;5;241m0\u001b[39m:\n\u001b[1;32m   1275\u001b[0m         \u001b[38;5;28;01mraise\u001b[39;00m \u001b[38;5;167;01mValueError\u001b[39;00m(\n\u001b[1;32m   1276\u001b[0m           \u001b[38;5;124m\"\u001b[39m\u001b[38;5;124mnon-zero flags not allowed in calls to recv_into() on \u001b[39m\u001b[38;5;132;01m%s\u001b[39;00m\u001b[38;5;124m\"\u001b[39m \u001b[38;5;241m%\u001b[39m\n\u001b[1;32m   1277\u001b[0m           \u001b[38;5;28mself\u001b[39m\u001b[38;5;241m.\u001b[39m\u001b[38;5;18m__class__\u001b[39m)\n\u001b[0;32m-> 1278\u001b[0m     \u001b[38;5;28;01mreturn\u001b[39;00m \u001b[38;5;28;43mself\u001b[39;49m\u001b[38;5;241;43m.\u001b[39;49m\u001b[43mread\u001b[49m\u001b[43m(\u001b[49m\u001b[43mnbytes\u001b[49m\u001b[43m,\u001b[49m\u001b[43m \u001b[49m\u001b[43mbuffer\u001b[49m\u001b[43m)\u001b[49m\n\u001b[1;32m   1279\u001b[0m \u001b[38;5;28;01melse\u001b[39;00m:\n\u001b[1;32m   1280\u001b[0m     \u001b[38;5;28;01mreturn\u001b[39;00m \u001b[38;5;28msuper\u001b[39m()\u001b[38;5;241m.\u001b[39mrecv_into(buffer, nbytes, flags)\n",
      "File \u001b[0;32m/Library/Frameworks/Python.framework/Versions/3.11/lib/python3.11/ssl.py:1134\u001b[0m, in \u001b[0;36mSSLSocket.read\u001b[0;34m(self, len, buffer)\u001b[0m\n\u001b[1;32m   1132\u001b[0m \u001b[38;5;28;01mtry\u001b[39;00m:\n\u001b[1;32m   1133\u001b[0m     \u001b[38;5;28;01mif\u001b[39;00m buffer \u001b[38;5;129;01mis\u001b[39;00m \u001b[38;5;129;01mnot\u001b[39;00m \u001b[38;5;28;01mNone\u001b[39;00m:\n\u001b[0;32m-> 1134\u001b[0m         \u001b[38;5;28;01mreturn\u001b[39;00m \u001b[38;5;28;43mself\u001b[39;49m\u001b[38;5;241;43m.\u001b[39;49m\u001b[43m_sslobj\u001b[49m\u001b[38;5;241;43m.\u001b[39;49m\u001b[43mread\u001b[49m\u001b[43m(\u001b[49m\u001b[38;5;28;43mlen\u001b[39;49m\u001b[43m,\u001b[49m\u001b[43m \u001b[49m\u001b[43mbuffer\u001b[49m\u001b[43m)\u001b[49m\n\u001b[1;32m   1135\u001b[0m     \u001b[38;5;28;01melse\u001b[39;00m:\n\u001b[1;32m   1136\u001b[0m         \u001b[38;5;28;01mreturn\u001b[39;00m \u001b[38;5;28mself\u001b[39m\u001b[38;5;241m.\u001b[39m_sslobj\u001b[38;5;241m.\u001b[39mread(\u001b[38;5;28mlen\u001b[39m)\n",
      "\u001b[0;31mKeyboardInterrupt\u001b[0m: "
     ]
    }
   ],
   "source": [
    "# list of tuples\n",
    "# (suppkey, orderkey)\n",
    "q1_nations = ['UNITED KINGDOM', 'ARGENTINA', 'PERU', 'FRANCE', 'BRAZIL']\n",
    "q1_results = []\n",
    "print(\"QUERY 1 False Positives\")\n",
    "for i in range(len(db_names)):\n",
    "    curr_db_name = db_names[i]\n",
    "    curr_null_rate = null_rates[i]\n",
    "    print(f\"\\nNull Rate: {curr_null_rate}\")\n",
    "    mydb, mycursor = sql_commands.connect_to_db(curr_db_name)\n",
    "    fp_pcts = []\n",
    "    for j in range(3):\n",
    "        nation = q1_nations[j]\n",
    "        print(f\"Nation: {nation}\")\n",
    "        query1_out = sql_commands.run_query1(mycursor,nation)\n",
    "        lineitem_attributes = sql_commands.get_attribute_names(mycursor,\"LINEITEM\")\n",
    "        query1_attributes = ['S_SUPPKEY', 'O_ORDERKEY']\n",
    "        fp_pct = q1_fps(query1_out, lineitem_attributes, query1_attributes)\n",
    "        #print(f\"{fp_pct*100:.4}% false positives\")\n",
    "        #print(f\"Total Number of rows in query: {len(query1_out)}\")\n",
    "        if fp_pct != None:\n",
    "            fp_pcts.append(fp_pct)\n",
    "\n",
    "    #print(fp_pcts)\n",
    "    print(f\"Average false positive rate is: {np.mean(fp_pcts)}\")\n",
    "    q1_results.append(np.mean(fp_pcts))\n",
    "    "
   ]
  },
  {
   "cell_type": "code",
   "execution_count": null,
   "metadata": {},
   "outputs": [
    {
     "data": {
      "text/plain": [
       "[0.09128052742823267,\n",
       " 0.1506480897382979,\n",
       " 0.21371327948268773,\n",
       " 0.26871189086092767,\n",
       " 0.3253795296924006]"
      ]
     },
     "execution_count": 57,
     "metadata": {},
     "output_type": "execute_result"
    }
   ],
   "source": [
    "q1_results"
   ]
  },
  {
   "cell_type": "markdown",
   "metadata": {},
   "source": [
    "## Query 2"
   ]
  },
  {
   "cell_type": "code",
   "execution_count": 26,
   "metadata": {},
   "outputs": [],
   "source": [
    "'''\n",
    "    Iterate through answer tuples ('c_custkey', 'c_nationkey')\n",
    "    for each c_custkey\n",
    "        check whether orders.o_custkey is null\n",
    "        if yes, fp++\n",
    "    \n",
    "    '''\n",
    "def q2_fps(mycursor, query2_attributes, q2_out):\n",
    "    false_positives = False\n",
    "    count = 0\n",
    "    query = \"SELECT * FROM ORDERS WHERE O_CUSTKEY IS NULL\"\n",
    "    result = sql_commands.run_query(mycursor,query)\n",
    "    # if there is a row where o_custkey is null, then false positive can occur\n",
    "    for row in result:\n",
    "        false_positives = True\n",
    "        count += 1\n",
    "    if len(result) != 0:\n",
    "        return count/len(result)\n",
    "    return None"
   ]
  },
  {
   "cell_type": "code",
   "execution_count": 35,
   "metadata": {},
   "outputs": [
    {
     "name": "stdout",
     "output_type": "stream",
     "text": [
      "('JAPAN', 'MOZAMBIQUE', 'KENYA', 'ALGERIA', 'FRANCE', 'EGYPT', 'INDIA')\n",
      "('IRAQ', 'KENYA', 'EGYPT', 'VIETNAM', 'ROMANIA', 'UNITED KINGDOM', 'BRAZIL')\n",
      "('EGYPT', 'JAPAN', 'CHINA', 'ROMANIA', 'VIETNAM', 'MOROCCO', 'MOZAMBIQUE')\n",
      "('CHINA', 'MOZAMBIQUE', 'BRAZIL', 'ETHIOPIA', 'KENYA', 'MOROCCO', 'ARGENTINA')\n",
      "('PERU', 'UNITED STATES', 'GERMANY', 'VIETNAM', 'IRAN', 'JAPAN', 'INDIA')\n",
      "Avg FP Percentage for tpch_2pct is 1.0\n",
      "\n",
      "('INDIA', 'CANADA', 'VIETNAM', 'ARGENTINA', 'RUSSIA', 'KENYA', 'BRAZIL')\n",
      "('ETHIOPIA', 'MOROCCO', 'IRAN', 'JAPAN', 'SAUDI ARABIA', 'INDONESIA', 'BRAZIL')\n",
      "('BRAZIL', 'INDIA', 'JORDAN', 'ETHIOPIA', 'CHINA', 'RUSSIA', 'UNITED STATES')\n",
      "('CANADA', 'JORDAN', 'UNITED STATES', 'BRAZIL', 'SAUDI ARABIA', 'ROMANIA', 'IRAQ')\n",
      "('BRAZIL', 'UNITED STATES', 'IRAN', 'JAPAN', 'INDONESIA', 'ALGERIA', 'PERU')\n",
      "Avg FP Percentage for tpch_4pct is 1.0\n",
      "\n",
      "('FRANCE', 'EGYPT', 'CANADA', 'IRAQ', 'ROMANIA', 'CHINA', 'UNITED STATES')\n",
      "('GERMANY', 'INDONESIA', 'JORDAN', 'BRAZIL', 'CHINA', 'VIETNAM', 'IRAN')\n",
      "('JORDAN', 'EGYPT', 'IRAQ', 'MOZAMBIQUE', 'PERU', 'GERMANY', 'VIETNAM')\n",
      "('MOZAMBIQUE', 'CHINA', 'ALGERIA', 'INDONESIA', 'UNITED STATES', 'PERU', 'INDIA')\n",
      "('EGYPT', 'SAUDI ARABIA', 'FRANCE', 'ARGENTINA', 'CHINA', 'UNITED KINGDOM', 'ALGERIA')\n",
      "Avg FP Percentage for tpch_6pct is 1.0\n",
      "\n",
      "('INDIA', 'KENYA', 'ALGERIA', 'FRANCE', 'SAUDI ARABIA', 'ROMANIA', 'BRAZIL')\n",
      "('UNITED STATES', 'KENYA', 'MOZAMBIQUE', 'SAUDI ARABIA', 'MOROCCO', 'IRAN', 'PERU')\n",
      "('BRAZIL', 'UNITED KINGDOM', 'IRAQ', 'ROMANIA', 'IRAN', 'INDONESIA', 'CHINA')\n",
      "('CANADA', 'EGYPT', 'UNITED KINGDOM', 'ARGENTINA', 'BRAZIL', 'KENYA', 'SAUDI ARABIA')\n",
      "('PERU', 'INDONESIA', 'IRAN', 'JORDAN', 'RUSSIA', 'MOZAMBIQUE', 'ALGERIA')\n",
      "Avg FP Percentage for tpch_8pct is 1.0\n",
      "\n",
      "('CANADA', 'ETHIOPIA', 'SAUDI ARABIA', 'KENYA', 'MOZAMBIQUE', 'IRAQ', 'BRAZIL')\n",
      "('IRAQ', 'ROMANIA', 'IRAN', 'JAPAN', 'ETHIOPIA', 'EGYPT', 'GERMANY')\n",
      "('ARGENTINA', 'INDONESIA', 'VIETNAM', 'IRAN', 'IRAQ', 'BRAZIL', 'ETHIOPIA')\n",
      "('UNITED STATES', 'FRANCE', 'CANADA', 'ARGENTINA', 'ROMANIA', 'MOZAMBIQUE', 'VIETNAM')\n",
      "('RUSSIA', 'JORDAN', 'MOROCCO', 'EGYPT', 'PERU', 'UNITED STATES', 'ARGENTINA')\n",
      "Avg FP Percentage for tpch_10pct is 1.0\n",
      "\n"
     ]
    }
   ],
   "source": [
    "#random.seed(1123)\n",
    "q2_results = []\n",
    "for db_name in db_names:\n",
    "    fps_q2 = []\n",
    "    for i in range(5):\n",
    "        q2_nations = tuple(random.sample(all_nations, 7))\n",
    "        print(q2_nations)\n",
    "        mydb, mycursor = sql_commands.connect_to_db(db_name)\n",
    "        q2_out = sql_commands.run_query2(mycursor, q2_nations)\n",
    "        #print(q2_out[:5], len(q2_out))\n",
    "\n",
    "        query2_attributes = ['C_CUSTKEY', 'C_NATIONKEY']\n",
    "        order_attributes = sql_commands.get_attribute_names(mycursor,\"ORDERS\")\n",
    "        #print(order_attributes)\n",
    "        fp_pct_q2 = q2_fps(mycursor,query2_attributes,q2_out)\n",
    "        #print(\"FPs\", fp_pct_q2)\n",
    "        fps_q2.append(fp_pct_q2)\n",
    "    avg_fp = np.mean(fps_q2)\n",
    "    q2_results.append(avg_fp)\n",
    "    print(f\"Avg FP Percentage for {db_name} is {avg_fp}\\n\")\n"
   ]
  },
  {
   "cell_type": "markdown",
   "metadata": {},
   "source": [
    "# Query 3"
   ]
  },
  {
   "cell_type": "code",
   "execution_count": 115,
   "metadata": {},
   "outputs": [],
   "source": [
    "'''For instance, to falsify\n",
    "an order id k in the answer to query Q3, we look for a tuple\n",
    "in table lineitem where the value of attribute l_orderkey\n",
    "is k and the value of l_suppkey is null.'''\n",
    "def q3_fps(mycursor, q3_out):\n",
    "    count = 0\n",
    "    for order_id in q3_out:\n",
    "        query = f\"\"\"SELECT L_ORDERKEY,L_SUPPKEY\n",
    "                    FROM LINEITEM\n",
    "                    WHERE L_ORDERKEY = {order_id}\n",
    "                    AND L_SUPPKEY IS NULL\"\"\"\n",
    "        result = sql_commands.run_query(mycursor,query)\n",
    "        \n",
    "        if len(result) != 0:\n",
    "            #print(order_id, result)\n",
    "            count += 1\n",
    "    #print(\"Number of FPS\", count, \"/\", len(q3_out))\n",
    "    if len(q3_out) != 0:\n",
    "        return count/len(q3_out)\n",
    "    return None"
   ]
  },
  {
   "cell_type": "code",
   "execution_count": 116,
   "metadata": {},
   "outputs": [
    {
     "name": "stdout",
     "output_type": "stream",
     "text": [
      "Avg fp rate for tpch_2pct is 0.9535\n",
      "Avg fp rate for tpch_4pct is 0.9736\n",
      "Avg fp rate for tpch_6pct is 0.9863\n",
      "Avg fp rate for tpch_8pct is 0.9894\n",
      "Avg fp rate for tpch_10pct is 0.9916\n"
     ]
    }
   ],
   "source": [
    "q3_results = []\n",
    "for db_name in db_names:    \n",
    "    fp_avg = []\n",
    "    for j in range(5):\n",
    "        mydb, mycursor = sql_commands.connect_to_db(db_name)\n",
    "        q3_out = sql_commands.run_query3(mycursor)\n",
    "        fp_q3 = q3_fps(mycursor, q3_out)\n",
    "        fp_avg.append(fp_q3)\n",
    "    avg = np.mean(fp_avg)\n",
    "    q3_results.append(avg)\n",
    "    print(f\"Avg fp rate for {db_name} is {avg:.4}\")"
   ]
  },
  {
   "cell_type": "code",
   "execution_count": null,
   "metadata": {},
   "outputs": [],
   "source": [
    "sql_commands.close_db(mydb, mycursor)"
   ]
  }
 ],
 "metadata": {
  "kernelspec": {
   "display_name": "Python 3",
   "language": "python",
   "name": "python3"
  },
  "language_info": {
   "codemirror_mode": {
    "name": "ipython",
    "version": 3
   },
   "file_extension": ".py",
   "mimetype": "text/x-python",
   "name": "python",
   "nbconvert_exporter": "python",
   "pygments_lexer": "ipython3",
   "version": "3.11.4"
  }
 },
 "nbformat": 4,
 "nbformat_minor": 2
}
