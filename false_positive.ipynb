{
 "cells": [
  {
   "cell_type": "markdown",
   "metadata": {},
   "source": [
    "# Implementation of False Positive Algorithms"
   ]
  },
  {
   "cell_type": "code",
   "execution_count": 6,
   "metadata": {},
   "outputs": [],
   "source": [
    "import json\n",
    "import mysql.connector\n",
    "import random\n",
    "import numpy as np\n",
    "import importlib\n",
    "imported_module = importlib.import_module(\"sql_commands\")\n",
    "importlib.reload(imported_module)\n",
    "import sql_commands\n",
    "from sql_commands import *\n",
    "import csv\n",
    "import pandas as pd\n",
    "import matplotlib.pyplot as plt\n",
    "import os\n",
    "#random.seed(2311)\n"
   ]
  },
  {
   "cell_type": "code",
   "execution_count": 7,
   "metadata": {},
   "outputs": [],
   "source": [
    "db_names = ['tpch_2pct', 'tpch_4pct', 'tpch_og_6pct', 'tpch_og_8pct', 'tpch_og_10pct']\n",
    "null_rates = [0.02, 0.04, 0.06, 0.08, 0.1]"
   ]
  },
  {
   "cell_type": "code",
   "execution_count": 8,
   "metadata": {},
   "outputs": [],
   "source": [
    "mydb, mycursor = sql_commands.connect_to_db(\"tpch_og\")"
   ]
  },
  {
   "cell_type": "code",
   "execution_count": 9,
   "metadata": {},
   "outputs": [],
   "source": [
    "results_dir = \"false_positive_results\"\n",
    "if not os.path.exists(results_dir):\n",
    "    os.makedirs(results_dir)"
   ]
  },
  {
   "cell_type": "code",
   "execution_count": 10,
   "metadata": {},
   "outputs": [],
   "source": [
    "all_nations_raw = sql_commands.run_query(mycursor, \"SELECT N_NAME FROM NATION\")\n",
    "all_nations = []\n",
    "for nation in all_nations_raw:\n",
    "    n = nation[0]\n",
    "    if n is not None:\n",
    "        all_nations.append(n)"
   ]
  },
  {
   "cell_type": "markdown",
   "metadata": {},
   "source": [
    "## Query 1"
   ]
  },
  {
   "cell_type": "code",
   "execution_count": 11,
   "metadata": {},
   "outputs": [],
   "source": [
    "lineitem_cols = sql_commands.get_attribute_names(mycursor,\"LINEITEM\")\n",
    "query1_cols = ['S_SUPPKEY', 'O_ORDERKEY']\n",
    "# Query to get all items from Lineitem table\n",
    "lineitem = sql_commands.run_query(mycursor,\"SELECT * FROM LINEITEM\")\n",
    "# Variables needed for comparing lineitem items to query 1 answer\n",
    "l_orderkey_index = lineitem_cols.index('L_ORDERKEY')\n",
    "#print(\"l-orderkey-index\", l_orderkey_index)\n",
    "o_orderkey_index = query1_cols.index('O_ORDERKEY')\n",
    "#print(\"o-orderkey-index\", o_orderkey_index)\n",
    "l_suppkey_index = lineitem_cols.index('L_SUPPKEY')\n",
    "s_suppkey_index = query1_cols.index(\"S_SUPPKEY\")\n",
    "l_commitdate_index = lineitem_cols.index(\"L_COMMITDATE\")\n",
    "l_receiptdate_index = lineitem_cols.index('L_RECEIPTDATE')"
   ]
  },
  {
   "cell_type": "code",
   "execution_count": 12,
   "metadata": {},
   "outputs": [],
   "source": [
    "def q1_fps(query1_out):\n",
    "    count = 0\n",
    "    continue_count = 0\n",
    "    not_count = 0\n",
    "    nothing = 0\n",
    "    matching_count = 0\n",
    "    for i,t in enumerate(lineitem):\n",
    "        for j,a in enumerate(query1_out):\n",
    "            #print(\"Lineitem orderkey:\", t[l_orderkey_index], \"query1 answer orderkey:\", a[o_orderkey_index])\n",
    "            if t[l_orderkey_index] == a[o_orderkey_index]:\n",
    "                matching_count += 1\n",
    "                x = t[l_suppkey_index]\n",
    "                if x is not None and x == a[s_suppkey_index]:\n",
    "                    continue_count += 1\n",
    "                    continue\n",
    "                \n",
    "                d1 = t[l_commitdate_index]\n",
    "                d2 = t[l_receiptdate_index]\n",
    "                if (d1 is None) or (d2 is None) or (d2 > d1):\n",
    "                    count += 1\n",
    "                else:\n",
    "                    not_count += 1\n",
    "            else:\n",
    "                nothing += 1\n",
    "    #print(not_count, matching_count) \n",
    "    if matching_count != 0:           \n",
    "        return count/matching_count\n",
    "    return None"
   ]
  },
  {
   "cell_type": "code",
   "execution_count": 13,
   "metadata": {},
   "outputs": [
    {
     "name": "stdout",
     "output_type": "stream",
     "text": [
      "QUERY 1 False Positives\n",
      "\n",
      "Null Rate: 0.02\n",
      "Nation: UNITED KINGDOM\n",
      "Nation: ARGENTINA\n",
      "Nation: PERU\n",
      "Average false positive rate is: 0.06582576813227774\n",
      "\n",
      "Null Rate: 0.04\n",
      "Nation: UNITED KINGDOM\n",
      "Nation: ARGENTINA\n",
      "Nation: PERU\n",
      "Average false positive rate is: 0.10601777217043215\n",
      "\n",
      "Null Rate: 0.06\n",
      "Nation: UNITED KINGDOM\n",
      "Nation: ARGENTINA\n",
      "Nation: PERU\n",
      "Average false positive rate is: 0.1557058346276604\n",
      "\n",
      "Null Rate: 0.08\n",
      "Nation: UNITED KINGDOM\n",
      "Nation: ARGENTINA\n",
      "Nation: PERU\n",
      "Average false positive rate is: 0.18814164155956947\n",
      "\n",
      "Null Rate: 0.1\n",
      "Nation: UNITED KINGDOM\n",
      "Nation: ARGENTINA\n",
      "Nation: PERU\n",
      "Average false positive rate is: 0.22001243437413648\n"
     ]
    }
   ],
   "source": [
    "# list of tuples\n",
    "# (suppkey, orderkey)\n",
    "q1_nations = ['UNITED KINGDOM', 'ARGENTINA', 'PERU', 'FRANCE', 'BRAZIL']\n",
    "q1_results = []\n",
    "print(\"QUERY 1 False Positives\")\n",
    "for i in range(len(db_names)):\n",
    "    curr_db_name = db_names[i]\n",
    "    curr_null_rate = null_rates[i]\n",
    "    print(f\"\\nNull Rate: {curr_null_rate}\")\n",
    "    mydb, mycursor = sql_commands.connect_to_db(curr_db_name)\n",
    "    fp_pcts = []\n",
    "    for j in range(3):\n",
    "        nation = q1_nations[j]\n",
    "        print(f\"Nation: {nation}\")\n",
    "        query1_out = sql_commands.run_query1(mycursor,nation)\n",
    "        fp_pct = q1_fps(query1_out)\n",
    "        #print(f\"{fp_pct*100:.4}% false positives\")\n",
    "        #print(f\"Total Number of rows in query: {len(query1_out)}\")\n",
    "        if fp_pct != None:\n",
    "            fp_pcts.append(fp_pct)\n",
    "\n",
    "    #print(fp_pcts)\n",
    "    print(f\"Average false positive rate is: {np.mean(fp_pcts)}\")\n",
    "    q1_results.append(np.mean(fp_pcts))\n",
    "    "
   ]
  },
  {
   "cell_type": "code",
   "execution_count": 14,
   "metadata": {},
   "outputs": [
    {
     "name": "stdout",
     "output_type": "stream",
     "text": [
      "[0.06582576813227774, 0.10601777217043215, 0.1557058346276604, 0.18814164155956947, 0.22001243437413648]\n"
     ]
    }
   ],
   "source": [
    "print(q1_results)\n",
    "with open(f'{results_dir}/fp_results.csv', 'w') as f:\n",
    "    # using csv.writer method from CSV package\n",
    "    write = csv.writer(f)\n",
    "    write.writerow([round(result,6) for result in q1_results])"
   ]
  },
  {
   "cell_type": "markdown",
   "metadata": {},
   "source": [
    "## Query 2"
   ]
  },
  {
   "cell_type": "code",
   "execution_count": 15,
   "metadata": {},
   "outputs": [],
   "source": [
    "'''\n",
    "    Iterate through answer tuples ('c_custkey', 'c_nationkey')\n",
    "    for each c_custkey\n",
    "        check whether orders.o_custkey is null\n",
    "        if yes, fp++\n",
    "    \n",
    "    '''\n",
    "def q2_fps(mycursor, query2_attributes, q2_out):\n",
    "    false_positives = False\n",
    "    count = 0\n",
    "    query = \"SELECT * FROM ORDERS WHERE O_CUSTKEY IS NULL\"\n",
    "    result = sql_commands.run_query(mycursor,query)\n",
    "    # if there is a row where o_custkey is null, then false positive can occur\n",
    "    for row in result:\n",
    "        false_positives = True\n",
    "        count += 1\n",
    "    if len(result) != 0:\n",
    "        return count/len(result)\n",
    "    return None"
   ]
  },
  {
   "cell_type": "code",
   "execution_count": 16,
   "metadata": {},
   "outputs": [
    {
     "name": "stdout",
     "output_type": "stream",
     "text": [
      "('JORDAN', 'UNITED STATES', 'BRAZIL', 'UNITED KINGDOM', 'INDIA', 'INDONESIA', 'CANADA')\n",
      "('JORDAN', 'SAUDI ARABIA', 'UNITED KINGDOM', 'INDIA', 'RUSSIA', 'CANADA', 'GERMANY')\n",
      "('ROMANIA', 'IRAN', 'JORDAN', 'INDONESIA', 'JAPAN', 'EGYPT', 'KENYA')\n",
      "('CHINA', 'ARGENTINA', 'KENYA', 'INDIA', 'MOROCCO', 'BRAZIL', 'MOZAMBIQUE')\n",
      "('JAPAN', 'FRANCE', 'ALGERIA', 'KENYA', 'PERU', 'EGYPT', 'CHINA')\n",
      "Avg FP Percentage for tpch_2pct is 1.0\n",
      "\n",
      "('UNITED STATES', 'UNITED KINGDOM', 'INDONESIA', 'ALGERIA', 'VIETNAM', 'BRAZIL', 'RUSSIA')\n",
      "('SAUDI ARABIA', 'INDONESIA', 'BRAZIL', 'ALGERIA', 'INDIA', 'IRAQ', 'GERMANY')\n",
      "('FRANCE', 'KENYA', 'ROMANIA', 'JAPAN', 'UNITED STATES', 'SAUDI ARABIA', 'INDIA')\n",
      "('MOROCCO', 'CHINA', 'IRAQ', 'INDIA', 'IRAN', 'UNITED KINGDOM', 'SAUDI ARABIA')\n",
      "('CHINA', 'IRAN', 'RUSSIA', 'UNITED KINGDOM', 'ETHIOPIA', 'ARGENTINA', 'VIETNAM')\n",
      "Avg FP Percentage for tpch_4pct is 1.0\n",
      "\n",
      "('MOROCCO', 'GERMANY', 'CANADA', 'RUSSIA', 'IRAQ', 'BRAZIL', 'INDIA')\n",
      "('CANADA', 'RUSSIA', 'VIETNAM', 'KENYA', 'INDONESIA', 'ARGENTINA', 'ETHIOPIA')\n",
      "('INDIA', 'MOROCCO', 'JORDAN', 'IRAN', 'BRAZIL', 'IRAQ', 'PERU')\n",
      "('VIETNAM', 'CHINA', 'SAUDI ARABIA', 'IRAN', 'INDIA', 'EGYPT', 'IRAQ')\n",
      "('IRAN', 'VIETNAM', 'PERU', 'ROMANIA', 'MOZAMBIQUE', 'JAPAN', 'FRANCE')\n",
      "Avg FP Percentage for tpch_og_6pct is 1.0\n",
      "\n",
      "('MOROCCO', 'FRANCE', 'ETHIOPIA', 'CANADA', 'ARGENTINA', 'VIETNAM', 'EGYPT')\n",
      "('INDIA', 'ROMANIA', 'MOROCCO', 'SAUDI ARABIA', 'UNITED STATES', 'INDONESIA', 'RUSSIA')\n",
      "('JAPAN', 'MOZAMBIQUE', 'CHINA', 'IRAN', 'INDIA', 'GERMANY', 'VIETNAM')\n",
      "('PERU', 'IRAQ', 'FRANCE', 'ROMANIA', 'RUSSIA', 'GERMANY', 'CHINA')\n",
      "('GERMANY', 'UNITED STATES', 'ETHIOPIA', 'ALGERIA', 'PERU', 'IRAN', 'EGYPT')\n",
      "Avg FP Percentage for tpch_og_8pct is 1.0\n",
      "\n",
      "('UNITED KINGDOM', 'PERU', 'JAPAN', 'MOZAMBIQUE', 'CANADA', 'ROMANIA', 'KENYA')\n",
      "('BRAZIL', 'UNITED KINGDOM', 'RUSSIA', 'ETHIOPIA', 'SAUDI ARABIA', 'CANADA', 'ALGERIA')\n",
      "('UNITED STATES', 'IRAQ', 'GERMANY', 'PERU', 'MOROCCO', 'ROMANIA', 'CHINA')\n",
      "('UNITED KINGDOM', 'VIETNAM', 'IRAN', 'UNITED STATES', 'JAPAN', 'ALGERIA', 'INDIA')\n",
      "('JAPAN', 'KENYA', 'RUSSIA', 'MOROCCO', 'INDONESIA', 'GERMANY', 'SAUDI ARABIA')\n",
      "Avg FP Percentage for tpch_og_10pct is 1.0\n",
      "\n"
     ]
    }
   ],
   "source": [
    "#random.seed(1123)\n",
    "q2_results = []\n",
    "for db_name in db_names:\n",
    "    fps_q2 = []\n",
    "    for i in range(5):\n",
    "        q2_nations = tuple(random.sample(all_nations, 7))\n",
    "        print(q2_nations)\n",
    "        mydb, mycursor = sql_commands.connect_to_db(db_name)\n",
    "        q2_out = sql_commands.run_query2(mycursor, q2_nations)\n",
    "        #print(q2_out[:5], len(q2_out))\n",
    "\n",
    "        query2_attributes = ['C_CUSTKEY', 'C_NATIONKEY']\n",
    "        order_attributes = sql_commands.get_attribute_names(mycursor,\"ORDERS\")\n",
    "        #print(order_attributes)\n",
    "        fp_pct_q2 = q2_fps(mycursor,query2_attributes,q2_out)\n",
    "        #print(\"FPs\", fp_pct_q2)\n",
    "        fps_q2.append(fp_pct_q2)\n",
    "    avg_fp = np.mean(fps_q2)\n",
    "    q2_results.append(avg_fp)\n",
    "    print(f\"Avg FP Percentage for {db_name} is {avg_fp}\\n\")\n"
   ]
  },
  {
   "cell_type": "code",
   "execution_count": 17,
   "metadata": {},
   "outputs": [],
   "source": [
    "with open(f'{results_dir}/fp_results.csv', 'a') as f:\n",
    "    # using csv.writer method from CSV package\n",
    "    write = csv.writer(f)\n",
    "    write.writerow([round(result,6) for result in q2_results])"
   ]
  },
  {
   "cell_type": "markdown",
   "metadata": {},
   "source": [
    "# Query 3"
   ]
  },
  {
   "cell_type": "code",
   "execution_count": 18,
   "metadata": {},
   "outputs": [],
   "source": [
    "'''For instance, to falsify\n",
    "an order id k in the answer to query Q3, we look for a tuple\n",
    "in table lineitem where the value of attribute l_orderkey\n",
    "is k and the value of l_suppkey is null.'''\n",
    "def q3_fps(mycursor, q3_out):\n",
    "    count = 0\n",
    "    for order_id in q3_out:\n",
    "        query = f\"\"\"SELECT L_ORDERKEY,L_SUPPKEY\n",
    "                    FROM LINEITEM\n",
    "                    WHERE L_ORDERKEY = {order_id}\n",
    "                    AND L_SUPPKEY IS NULL\"\"\"\n",
    "        result = sql_commands.run_query(mycursor,query)\n",
    "        \n",
    "        if len(result) != 0:\n",
    "            #print(order_id, result)\n",
    "            count += 1\n",
    "    #print(\"Number of FPS\", count, \"/\", len(q3_out))\n",
    "    if len(q3_out) != 0:\n",
    "        return count/len(q3_out)\n",
    "    return None"
   ]
  },
  {
   "cell_type": "code",
   "execution_count": 19,
   "metadata": {},
   "outputs": [
    {
     "name": "stdout",
     "output_type": "stream",
     "text": [
      "Avg fp rate for tpch_2pct is 0.954\n",
      "Avg fp rate for tpch_4pct is 0.9795\n",
      "Avg fp rate for tpch_og_6pct is 0.9873\n",
      "Avg fp rate for tpch_og_8pct is 0.9896\n",
      "Avg fp rate for tpch_og_10pct is 0.9918\n"
     ]
    }
   ],
   "source": [
    "q3_results = []\n",
    "for db_name in db_names:    \n",
    "    fp_avg = []\n",
    "    for j in range(5):\n",
    "        mydb, mycursor = sql_commands.connect_to_db(db_name)\n",
    "        q3_out = sql_commands.run_query3(mycursor)\n",
    "        fp_q3 = q3_fps(mycursor, q3_out)\n",
    "        fp_avg.append(fp_q3)\n",
    "    avg = np.mean(fp_avg)\n",
    "    q3_results.append(avg)\n",
    "    print(f\"Avg fp rate for {db_name} is {avg:.4}\")"
   ]
  },
  {
   "cell_type": "code",
   "execution_count": 20,
   "metadata": {},
   "outputs": [],
   "source": [
    "with open(f'{results_dir}/fp_results.csv', 'a') as f:\n",
    "    # using csv.writer method from CSV package\n",
    "    write = csv.writer(f)\n",
    "    write.writerow([round(result,6) for result in q3_results])"
   ]
  },
  {
   "cell_type": "markdown",
   "metadata": {},
   "source": [
    "# Query 4"
   ]
  },
  {
   "cell_type": "code",
   "execution_count": 21,
   "metadata": {},
   "outputs": [],
   "source": [
    "# Table attribute index initialization\n",
    "lineitem_attributes = sql_commands.get_attribute_names(mycursor,\"LINEITEM\")\n",
    "part_attributes = sql_commands.get_attribute_names(mycursor,\"PART\")\n",
    "supplier_attributes = sql_commands.get_attribute_names(mycursor,\"SUPPLIER\")\n",
    "nation_attributes = sql_commands.get_attribute_names(mycursor,\"NATION\")\n",
    "#print(\"nation attr\",nation_attributes)\n",
    "l_orderkey = lineitem_attributes.index('L_ORDERKEY')\n",
    "l_partkey = lineitem_attributes.index('L_PARTKEY')\n",
    "l_suppkey = lineitem_attributes.index('L_SUPPKEY')\n",
    "p_partkey = part_attributes.index('P_PARTKEY')\n",
    "p_name = part_attributes.index('P_NAME')\n",
    "s_suppkey = supplier_attributes.index('S_SUPPKEY')\n",
    "s_nationkey = supplier_attributes.index('S_NATIONKEY')\n",
    "n_name = nation_attributes.index('N_NAME')\n",
    "n_nationkey = nation_attributes.index(\"N_NATIONKEY\")\n",
    "#print(l_orderkey,s_nationkey)"
   ]
  },
  {
   "cell_type": "code",
   "execution_count": 22,
   "metadata": {},
   "outputs": [
    {
     "name": "stdout",
     "output_type": "stream",
     "text": [
      "Modified lineitems length:  60057\n"
     ]
    }
   ],
   "source": [
    "# One-time query runs for q4 fp algorithm\n",
    "downscale_factor = 10\n",
    "lineitems_full = sql_commands.run_query(mycursor,\"SELECT * FROM LINEITEM\")\n",
    "lineitems = random.sample(lineitems_full,int(len(lineitems_full)/downscale_factor))\n",
    "print(\"Modified lineitems length: \", len(lineitems))\n",
    "parts = sql_commands.run_query(mycursor,\"SELECT * FROM PART\")\n",
    "suppliers = sql_commands.run_query(mycursor,\"SELECT * FROM SUPPLIER\")\n",
    "nations = sql_commands.run_query(mycursor,\"SELECT * FROM NATION\")"
   ]
  },
  {
   "cell_type": "code",
   "execution_count": 23,
   "metadata": {},
   "outputs": [],
   "source": [
    "def q4_fps(mycursor, q4_out, mycolor, mynation):\n",
    "    ''' need to find index of \n",
    "        lineitem['l_orderkey']\n",
    "        lineitem['l_partkey']\n",
    "        lineitem['l_suppkey']\n",
    "        part['p_partkey']\n",
    "        part['p_name']\n",
    "        supplier['s_suppkey']\n",
    "        supplier['s_nationkey']\n",
    "        nation['n_name']\n",
    "        nation[n_nationkey]\n",
    "    '''\n",
    "    P, S = False, False\n",
    "    count = 0\n",
    "    # print(len(lineitems), \"rows in lineitems\")\n",
    "    # print(len(q4_out), \"rows in query\")\n",
    "    \n",
    "    for i,lineitem in enumerate(lineitems):\n",
    "        # if i % 100 == 0:\n",
    "        #     print(\"Row\", i)\n",
    "        for order in q4_out:\n",
    "            if lineitem[l_orderkey] == order:\n",
    "                P, S = False, False\n",
    "                \n",
    "                # need to query all rows of table PARTS\n",
    "                for part in parts:\n",
    "                    #print(\"part\", part)\n",
    "                    if lineitem[l_partkey] is None or lineitem[l_partkey] == part[p_partkey]:\n",
    "                        if part[p_name] is None or mycolor in part[p_name]:\n",
    "                            P = True\n",
    "                            break\n",
    "                \n",
    "                if not P:\n",
    "                    continue\n",
    "                # need to query all rows of table SUPPLIERS\n",
    "                for supplier in suppliers:\n",
    "                    if lineitem[l_suppkey] is None or lineitem[l_suppkey] == supplier[s_suppkey]:\n",
    "                        x = supplier[s_nationkey]\n",
    "                        if x is None:\n",
    "                            S = True\n",
    "                            break\n",
    "\n",
    "                        # need to query all rows of table NATIONS\n",
    "                        for nation in nations:\n",
    "                            if nation[n_nationkey] == x:\n",
    "                                if nation[n_name] == mynation:\n",
    "                                    S = True\n",
    "                                    break\n",
    "                \n",
    "                if P and S:\n",
    "                    count += 1\n",
    "    #print(\"alg done\")\n",
    "    if len(q4_out) != 0:\n",
    "        return count/len(q4_out)\n",
    "    return None"
   ]
  },
  {
   "cell_type": "code",
   "execution_count": 24,
   "metadata": {},
   "outputs": [
    {
     "name": "stdout",
     "output_type": "stream",
     "text": [
      "Avg fp rate for tpch_2pct is 0.020096292691158972\n",
      "Avg fp rate for tpch_4pct is 0.01942994286385072\n",
      "Avg fp rate for tpch_og_6pct is 0.020544988929893617\n",
      "Avg fp rate for tpch_og_8pct is 0.021017879148468078\n",
      "Avg fp rate for tpch_og_10pct is 0.022479644185554825\n"
     ]
    }
   ],
   "source": [
    "q4_results = []\n",
    "for db_name in db_names:\n",
    "    mydb, mycursor = sql_commands.connect_to_db(db_name)\n",
    "    fps = []\n",
    "    for i in range(3):\n",
    "        q4_out_full, color, nation = sql_commands.run_query4(mycursor, all_nations)\n",
    "        q4_out = random.sample(q4_out_full, int(len(q4_out_full)/downscale_factor))\n",
    "\n",
    "        result = q4_fps(mycursor,q4_out,color,nation)\n",
    "        # print(\"FP present\", result)\n",
    "        fps.append(result)\n",
    "    avg = np.mean(fps)\n",
    "    q4_results.append(avg)\n",
    "    print(f\"Avg fp rate for {db_name} is {avg}\")"
   ]
  },
  {
   "cell_type": "code",
   "execution_count": 25,
   "metadata": {},
   "outputs": [],
   "source": [
    "with open(f'{results_dir}/fp_results.csv', 'a') as f:\n",
    "    # using csv.writer method from CSV package\n",
    "    write = csv.writer(f)\n",
    "    write.writerow([round(result,6) for result in q4_results])\n"
   ]
  },
  {
   "cell_type": "markdown",
   "metadata": {},
   "source": [
    "# Results"
   ]
  },
  {
   "cell_type": "code",
   "execution_count": 27,
   "metadata": {},
   "outputs": [
    {
     "data": {
      "image/png": "[encoded data removed]",
      "text/plain": [
       "<Figure size 640x480 with 1 Axes>"
      ]
     },
     "metadata": {},
     "output_type": "display_data"
    }
   ],
   "source": [
    "null_rates_mod = [int(rate*100) for rate in null_rates]\n",
    "# Read CSV file into DataFrame\n",
    "df = pd.read_csv(f'{results_dir}/fp_results.csv', header=None)  # Assuming CSV file has no header\n",
    "\n",
    "# Plot each row as a separate line with different colors\n",
    "for i, row in df.iterrows():\n",
    "    row_mod = [(r*100) for r in row]\n",
    "    plt.plot(null_rates_mod, row_mod, label=f'Query {i+1}', alpha=1)  # Plot lines with some transparency\n",
    "\n",
    "# Scatter plot for each data point\n",
    "for i, row in df.iterrows():\n",
    "    row_mod = [(r*100) for r in row]\n",
    "    plt.scatter(null_rates_mod, row_mod, color='black', alpha=1)  # Scatter plot for each data point\n",
    "\n",
    "plt.title(\"False Positives For Each Null Rate Across Queries\")\n",
    "plt.xlabel(\"Null Rate %\")\n",
    "plt.ylabel(\"Average % False Positives\")\n",
    "plt.legend()\n",
    "plt.grid(True)\n",
    "plt.ylim(-5,105)\n",
    "plt.savefig(f'{results_dir}/false_positives.png')\n",
    "plt.show()"
   ]
  },
  {
   "cell_type": "code",
   "execution_count": null,
   "metadata": {},
   "outputs": [],
   "source": [
    "sql_commands.close_db(mydb, mycursor)"
   ]
  }
 ],
 "metadata": {
  "kernelspec": {
   "display_name": "Python 3",
   "language": "python",
   "name": "python3"
  },
  "language_info": {
   "codemirror_mode": {
    "name": "ipython",
    "version": 3
   },
   "file_extension": ".py",
   "mimetype": "text/x-python",
   "name": "python",
   "nbconvert_exporter": "python",
   "pygments_lexer": "ipython3",
   "version": "3.11.4"
  }
 },
 "nbformat": 4,
 "nbformat_minor": 2
}
