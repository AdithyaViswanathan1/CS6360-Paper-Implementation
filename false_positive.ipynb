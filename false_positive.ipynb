{
 "cells": [
  {
   "cell_type": "markdown",
   "metadata": {},
   "source": [
    "# Implementation of False Positive Algorithms"
   ]
  },
  {
   "cell_type": "code",
   "execution_count": 17,
   "metadata": {},
   "outputs": [],
   "source": [
    "import json\n",
    "import mysql.connector\n",
    "import sql_commands\n",
    "import random\n",
    "random.seed(2311)"
   ]
  },
  {
   "cell_type": "code",
   "execution_count": 18,
   "metadata": {},
   "outputs": [],
   "source": [
    "mydb, mycursor = sql_commands.connect_to_db(\"tpch_og\")"
   ]
  },
  {
   "cell_type": "code",
   "execution_count": 19,
   "metadata": {},
   "outputs": [
    {
     "name": "stdout",
     "output_type": "stream",
     "text": [
      "Nation chosen: EGYPT\n"
     ]
    }
   ],
   "source": [
    "all_nations = sql_commands.run_query(mycursor, \"SELECT N_NAME FROM NATION\")\n",
    "index = random.randint(0, len(all_nations)-1)\n",
    "nation = all_nations[index][0]\n",
    "print(\"Nation chosen:\", nation)"
   ]
  },
  {
   "cell_type": "code",
   "execution_count": 20,
   "metadata": {},
   "outputs": [],
   "source": [
    "def q1_fps(a,lineitem_cols,query1_cols):\n",
    "    # Query to get all items from Lineitem table\n",
    "    lineitem = sql_commands.run_query(mycursor,\"SELECT * FROM LINEITEM\")\n",
    "    # Variables needed for comparing lineitem items to query 1 answer\n",
    "    l_orderkey_index = lineitem_cols.index('L_ORDERKEY')\n",
    "    o_orderkey_index = query1_cols.index('O_ORDERKEY')\n",
    "    l_suppkey_index = lineitem_cols.index('L_SUPPKEY')\n",
    "    s_suppkey_index = query1_cols.index(\"S_SUPPKEY\")\n",
    "    l_commitdate_index = lineitem_cols.index(\"L_COMMITDATE\")\n",
    "    l_receiptdate_index = lineitem_cols.index('L_RECEIPTDATE')\n",
    "    count = 0\n",
    "    for t in lineitem:\n",
    "        if t[l_orderkey_index] == a[o_orderkey_index]:\n",
    "            x = t[l_suppkey_index]\n",
    "            if x is not None and x == a[s_suppkey_index]:\n",
    "                continue\n",
    "            \n",
    "            d1 = t[l_commitdate_index]\n",
    "            d2 = t[l_receiptdate_index]\n",
    "            if d1 is None or d2 is None or d2 > d1:\n",
    "                count += 1\n",
    "                \n",
    "    return count"
   ]
  },
  {
   "cell_type": "code",
   "execution_count": 21,
   "metadata": {},
   "outputs": [
    {
     "name": "stdout",
     "output_type": "stream",
     "text": [
      "['L_ORDERKEY', 'L_PARTKEY', 'L_SUPPKEY', 'L_LINENUMBER', 'L_QUANTITY', 'L_EXTENDEDPRICE', 'L_DISCOUNT', 'L_TAX', 'L_RETURNFLAG', 'L_LINESTATUS', 'L_SHIPDATE', 'L_COMMITDATE', 'L_RECEIPTDATE', 'L_SHIPINSTRUCT', 'L_SHIPMODE', 'L_COMMENT']\n",
      "['S_SUPPKEY', 'O_ORDERKEY']\n",
      "0 false positives found in Query 1\n"
     ]
    }
   ],
   "source": [
    "# list of tuples\n",
    "# (suppkey, orderkey)\n",
    "mydb, mycursor = sql_commands.connect_to_db(\"tpch_10pct\")\n",
    "query1_out = sql_commands.run_query1(mycursor,nation)\n",
    "#TODO: implement fp alg 1 and calculate #fp for query1\n",
    "lineitem_attributes = sql_commands.get_attribute_names(mycursor,\"LINEITEM\")\n",
    "query1_attributes = ['S_SUPPKEY', 'O_ORDERKEY']\n",
    "print(lineitem_attributes)\n",
    "print(query1_attributes)\n",
    "fp_count = q1_fps(query1_out, lineitem_attributes, query1_attributes)\n",
    "print(f\"{fp_count} false positives found in Query 1\")"
   ]
  },
  {
   "cell_type": "code",
   "execution_count": 22,
   "metadata": {},
   "outputs": [],
   "source": [
    "sql_commands.close_db(mydb, mycursor)"
   ]
  }
 ],
 "metadata": {
  "kernelspec": {
   "display_name": "Python 3",
   "language": "python",
   "name": "python3"
  },
  "language_info": {
   "codemirror_mode": {
    "name": "ipython",
    "version": 3
   },
   "file_extension": ".py",
   "mimetype": "text/x-python",
   "name": "python",
   "nbconvert_exporter": "python",
   "pygments_lexer": "ipython3",
   "version": "3.11.4"
  }
 },
 "nbformat": 4,
 "nbformat_minor": 2
}
